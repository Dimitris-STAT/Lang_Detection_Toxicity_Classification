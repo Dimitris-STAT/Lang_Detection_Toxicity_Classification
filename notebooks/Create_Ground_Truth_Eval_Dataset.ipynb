{
 "cells": [
  {
   "cell_type": "code",
   "execution_count": 2,
   "id": "d183e811",
   "metadata": {},
   "outputs": [
    {
     "data": {
      "text/html": [
       "<div>\n",
       "<style scoped>\n",
       "    .dataframe tbody tr th:only-of-type {\n",
       "        vertical-align: middle;\n",
       "    }\n",
       "\n",
       "    .dataframe tbody tr th {\n",
       "        vertical-align: top;\n",
       "    }\n",
       "\n",
       "    .dataframe thead th {\n",
       "        text-align: right;\n",
       "    }\n",
       "</style>\n",
       "<table border=\"1\" class=\"dataframe\">\n",
       "  <thead>\n",
       "    <tr style=\"text-align: right;\">\n",
       "      <th></th>\n",
       "      <th>text</th>\n",
       "    </tr>\n",
       "  </thead>\n",
       "  <tbody>\n",
       "    <tr>\n",
       "      <th>0</th>\n",
       "      <td>Γέλια σαν κομπολόγια</td>\n",
       "    </tr>\n",
       "    <tr>\n",
       "      <th>1</th>\n",
       "      <td>Καρδίαν καθαράν θέλ' ο Θεός</td>\n",
       "    </tr>\n",
       "    <tr>\n",
       "      <th>2</th>\n",
       "      <td>Ου Θεός κι ου γείτονας</td>\n",
       "    </tr>\n",
       "    <tr>\n",
       "      <th>3</th>\n",
       "      <td>Θέλει να κρυφθή πίσω από το δάχτυλό του</td>\n",
       "    </tr>\n",
       "    <tr>\n",
       "      <th>4</th>\n",
       "      <td>Όλοι κλαίν' τα χάλια τ'ς κι ο μυλωνάς τη δέσι</td>\n",
       "    </tr>\n",
       "    <tr>\n",
       "      <th>...</th>\n",
       "      <td>...</td>\n",
       "    </tr>\n",
       "    <tr>\n",
       "      <th>11495</th>\n",
       "      <td>Παστρζικό τσανα τσ' έναι!</td>\n",
       "    </tr>\n",
       "    <tr>\n",
       "      <th>11496</th>\n",
       "      <td>Κάλλιο γεναίκα κάμισσα, πέρζι πολυπροικούσα</td>\n",
       "    </tr>\n",
       "    <tr>\n",
       "      <th>11497</th>\n",
       "      <td>Όγοιος κάθεται στη στερζά τσαί θάλασσα γερεύει...</td>\n",
       "    </tr>\n",
       "    <tr>\n",
       "      <th>11498</th>\n",
       "      <td>Πήε στ' δαιμόνου τ' μάννα</td>\n",
       "    </tr>\n",
       "    <tr>\n",
       "      <th>11499</th>\n",
       "      <td>Θα σε κάνου να κατουρζήσεις αίμα</td>\n",
       "    </tr>\n",
       "  </tbody>\n",
       "</table>\n",
       "<p>11500 rows × 1 columns</p>\n",
       "</div>"
      ],
      "text/plain": [
       "                                                    text\n",
       "0                                   Γέλια σαν κομπολόγια\n",
       "1                            Καρδίαν καθαράν θέλ' ο Θεός\n",
       "2                                 Ου Θεός κι ου γείτονας\n",
       "3                Θέλει να κρυφθή πίσω από το δάχτυλό του\n",
       "4          Όλοι κλαίν' τα χάλια τ'ς κι ο μυλωνάς τη δέσι\n",
       "...                                                  ...\n",
       "11495                          Παστρζικό τσανα τσ' έναι!\n",
       "11496        Κάλλιο γεναίκα κάμισσα, πέρζι πολυπροικούσα\n",
       "11497  Όγοιος κάθεται στη στερζά τσαί θάλασσα γερεύει...\n",
       "11498                          Πήε στ' δαιμόνου τ' μάννα\n",
       "11499                   Θα σε κάνου να κατουρζήσεις αίμα\n",
       "\n",
       "[11500 rows x 1 columns]"
      ]
     },
     "execution_count": 2,
     "metadata": {},
     "output_type": "execute_result"
    }
   ],
   "source": [
    "import pandas as pd\n",
    "\n",
    "proverbs = pd.read_csv(\"../csv/bonus_assignment.csv\")\n",
    "proverbs = proverbs.drop(columns='bonus_clustering')\n",
    "\n",
    "proverbs"
   ]
  },
  {
   "cell_type": "code",
   "execution_count": 3,
   "id": "b159a3c7",
   "metadata": {},
   "outputs": [],
   "source": [
    "\"\"\"\n",
    "    Creator of grecka module : ThemisB\n",
    "    github-repo : https://github.com/ThemisB/grecka.git\n",
    "\"\"\"\n",
    "import sys\n",
    "import os\n",
    "\n",
    "\n",
    "current_dir = os.path.dirname(os.path.abspath(__file__)) if \"__file__\" in locals() else os.getcwd()\n",
    "sys.path.append(os.path.join(current_dir, \"..\"))\n",
    "\n",
    "# Import greeklish word transformer\n",
    "from grecka.lib.grecka import Grecka\n",
    "\n",
    "\n",
    "# Transform proverbs to greeklish\n",
    "proverbs['greeklish_version'] = proverbs['text'].apply(Grecka.toGreeklish)"
   ]
  },
  {
   "cell_type": "code",
   "execution_count": 4,
   "id": "b18fe9d9",
   "metadata": {},
   "outputs": [],
   "source": [
    "concat_df = pd.DataFrame(columns=['text'])\n",
    "# Concatenate the original 'text' and 'greeklish_version' columns\n",
    "concat_df['text'] = pd.concat([proverbs['text'], proverbs['greeklish_version']], axis=0, ignore_index=True)"
   ]
  },
  {
   "cell_type": "code",
   "execution_count": 5,
   "id": "7fa732a3",
   "metadata": {},
   "outputs": [
    {
     "data": {
      "text/html": [
       "<div>\n",
       "<style scoped>\n",
       "    .dataframe tbody tr th:only-of-type {\n",
       "        vertical-align: middle;\n",
       "    }\n",
       "\n",
       "    .dataframe tbody tr th {\n",
       "        vertical-align: top;\n",
       "    }\n",
       "\n",
       "    .dataframe thead th {\n",
       "        text-align: right;\n",
       "    }\n",
       "</style>\n",
       "<table border=\"1\" class=\"dataframe\">\n",
       "  <thead>\n",
       "    <tr style=\"text-align: right;\">\n",
       "      <th></th>\n",
       "      <th>text</th>\n",
       "      <th>orig_lang</th>\n",
       "    </tr>\n",
       "  </thead>\n",
       "  <tbody>\n",
       "    <tr>\n",
       "      <th>0</th>\n",
       "      <td>Γέλια σαν κομπολόγια</td>\n",
       "      <td>Greek</td>\n",
       "    </tr>\n",
       "    <tr>\n",
       "      <th>1</th>\n",
       "      <td>Καρδίαν καθαράν θέλ' ο Θεός</td>\n",
       "      <td>Greek</td>\n",
       "    </tr>\n",
       "    <tr>\n",
       "      <th>2</th>\n",
       "      <td>Ου Θεός κι ου γείτονας</td>\n",
       "      <td>Greek</td>\n",
       "    </tr>\n",
       "    <tr>\n",
       "      <th>3</th>\n",
       "      <td>Θέλει να κρυφθή πίσω από το δάχτυλό του</td>\n",
       "      <td>Greek</td>\n",
       "    </tr>\n",
       "    <tr>\n",
       "      <th>4</th>\n",
       "      <td>Όλοι κλαίν' τα χάλια τ'ς κι ο μυλωνάς τη δέσι</td>\n",
       "      <td>Greek</td>\n",
       "    </tr>\n",
       "    <tr>\n",
       "      <th>...</th>\n",
       "      <td>...</td>\n",
       "      <td>...</td>\n",
       "    </tr>\n",
       "    <tr>\n",
       "      <th>22995</th>\n",
       "      <td>Pastrziko tsana ts' enai!</td>\n",
       "      <td>Greeklish</td>\n",
       "    </tr>\n",
       "    <tr>\n",
       "      <th>22996</th>\n",
       "      <td>Kallio genaika kamissa, perzi polyproikousa</td>\n",
       "      <td>Greeklish</td>\n",
       "    </tr>\n",
       "    <tr>\n",
       "      <th>22997</th>\n",
       "      <td>Ogoios kathetai sti sterza tsai thalassa gerey...</td>\n",
       "      <td>Greeklish</td>\n",
       "    </tr>\n",
       "    <tr>\n",
       "      <th>22998</th>\n",
       "      <td>Pie st' daimonou t' manna</td>\n",
       "      <td>Greeklish</td>\n",
       "    </tr>\n",
       "    <tr>\n",
       "      <th>22999</th>\n",
       "      <td>Tha se kanou na katourziseis aima</td>\n",
       "      <td>Greeklish</td>\n",
       "    </tr>\n",
       "  </tbody>\n",
       "</table>\n",
       "<p>23000 rows × 2 columns</p>\n",
       "</div>"
      ],
      "text/plain": [
       "                                                    text  orig_lang\n",
       "0                                   Γέλια σαν κομπολόγια      Greek\n",
       "1                            Καρδίαν καθαράν θέλ' ο Θεός      Greek\n",
       "2                                 Ου Θεός κι ου γείτονας      Greek\n",
       "3                Θέλει να κρυφθή πίσω από το δάχτυλό του      Greek\n",
       "4          Όλοι κλαίν' τα χάλια τ'ς κι ο μυλωνάς τη δέσι      Greek\n",
       "...                                                  ...        ...\n",
       "22995                          Pastrziko tsana ts' enai!  Greeklish\n",
       "22996        Kallio genaika kamissa, perzi polyproikousa  Greeklish\n",
       "22997  Ogoios kathetai sti sterza tsai thalassa gerey...  Greeklish\n",
       "22998                          Pie st' daimonou t' manna  Greeklish\n",
       "22999                  Tha se kanou na katourziseis aima  Greeklish\n",
       "\n",
       "[23000 rows x 2 columns]"
      ]
     },
     "execution_count": 5,
     "metadata": {},
     "output_type": "execute_result"
    }
   ],
   "source": [
    "# Assign the orig languages\n",
    "concat_df['orig_lang'] = 'Greek'\n",
    "concat_df.loc[11500:, 'orig_lang'] = 'Greeklish'\n",
    "\n",
    "concat_df"
   ]
  },
  {
   "cell_type": "code",
   "execution_count": 6,
   "id": "ca4fd1af",
   "metadata": {},
   "outputs": [
    {
     "name": "stdout",
     "output_type": "stream",
     "text": [
      "new_lang\n",
      "Other      8587\n",
      "English    1385\n",
      "Greek       365\n",
      "Name: count, dtype: int64\n"
     ]
    }
   ],
   "source": [
    "kaggle_set = pd.read_csv(\"../csv/kaggle.csv\")\n",
    "kaggle_set\n",
    "\n",
    "\n",
    "import pandas as pd\n",
    "\n",
    "# Assuming 'kaggle_set' is your DataFrame\n",
    "def categorize_language(language):\n",
    "    if language == 'Greek':\n",
    "        return 'Greek'\n",
    "    elif language == 'English':\n",
    "        return 'English'\n",
    "    else:\n",
    "        return 'Other'\n",
    "\n",
    "kaggle_set['new_lang'] = kaggle_set['Language'].apply(categorize_language)\n",
    "print(kaggle_set.new_lang.value_counts())"
   ]
  },
  {
   "cell_type": "code",
   "execution_count": 14,
   "id": "8f694583",
   "metadata": {},
   "outputs": [
    {
     "data": {
      "text/html": [
       "<div>\n",
       "<style scoped>\n",
       "    .dataframe tbody tr th:only-of-type {\n",
       "        vertical-align: middle;\n",
       "    }\n",
       "\n",
       "    .dataframe tbody tr th {\n",
       "        vertical-align: top;\n",
       "    }\n",
       "\n",
       "    .dataframe thead th {\n",
       "        text-align: right;\n",
       "    }\n",
       "</style>\n",
       "<table border=\"1\" class=\"dataframe\">\n",
       "  <thead>\n",
       "    <tr style=\"text-align: right;\">\n",
       "      <th></th>\n",
       "      <th>text</th>\n",
       "      <th>orig_lang</th>\n",
       "    </tr>\n",
       "  </thead>\n",
       "  <tbody>\n",
       "    <tr>\n",
       "      <th>0</th>\n",
       "      <td>Γέλια σαν κομπολόγια</td>\n",
       "      <td>Greek</td>\n",
       "    </tr>\n",
       "    <tr>\n",
       "      <th>1</th>\n",
       "      <td>Καρδίαν καθαράν θέλ' ο Θεός</td>\n",
       "      <td>Greek</td>\n",
       "    </tr>\n",
       "    <tr>\n",
       "      <th>2</th>\n",
       "      <td>Ου Θεός κι ου γείτονας</td>\n",
       "      <td>Greek</td>\n",
       "    </tr>\n",
       "    <tr>\n",
       "      <th>3</th>\n",
       "      <td>Θέλει να κρυφθή πίσω από το δάχτυλό του</td>\n",
       "      <td>Greek</td>\n",
       "    </tr>\n",
       "    <tr>\n",
       "      <th>4</th>\n",
       "      <td>Όλοι κλαίν' τα χάλια τ'ς κι ο μυλωνάς τη δέσι</td>\n",
       "      <td>Greek</td>\n",
       "    </tr>\n",
       "    <tr>\n",
       "      <th>...</th>\n",
       "      <td>...</td>\n",
       "      <td>...</td>\n",
       "    </tr>\n",
       "    <tr>\n",
       "      <th>33332</th>\n",
       "      <td>ನಿಮ್ಮ ತಪ್ಪು ಏನು ಬಂದಿದೆಯೆಂದರೆ ಆ ದಿನದಿಂದ ನಿಮಗೆ ಒ...</td>\n",
       "      <td>Other</td>\n",
       "    </tr>\n",
       "    <tr>\n",
       "      <th>33333</th>\n",
       "      <td>ನಾರ್ಸಿಸಾ ತಾನು ಮೊದಲಿಗೆ ಹೆಣಗಾಡುತ್ತಿದ್ದ ಮಾರ್ಗಗಳನ್...</td>\n",
       "      <td>Other</td>\n",
       "    </tr>\n",
       "    <tr>\n",
       "      <th>33334</th>\n",
       "      <td>ಹೇಗೆ ' ನಾರ್ಸಿಸಿಸಮ್ ಈಗ ಮರಿಯನ್ ಅವರಿಗೆ ಸಂಭವಿಸಿದ ಎ...</td>\n",
       "      <td>Other</td>\n",
       "    </tr>\n",
       "    <tr>\n",
       "      <th>33335</th>\n",
       "      <td>ಅವಳು ಈಗ ಹೆಚ್ಚು ಚಿನ್ನದ ಬ್ರೆಡ್ ಬಯಸುವುದಿಲ್ಲ ಎಂದು ...</td>\n",
       "      <td>Other</td>\n",
       "    </tr>\n",
       "    <tr>\n",
       "      <th>33336</th>\n",
       "      <td>ಟೆರ್ರಿ ನೀವು ನಿಜವಾಗಿಯೂ ಆ ದೇವದೂತನಂತೆ ಸ್ವಲ್ಪ ಕಾಣು...</td>\n",
       "      <td>Other</td>\n",
       "    </tr>\n",
       "  </tbody>\n",
       "</table>\n",
       "<p>33337 rows × 2 columns</p>\n",
       "</div>"
      ],
      "text/plain": [
       "                                                    text orig_lang\n",
       "0                                   Γέλια σαν κομπολόγια     Greek\n",
       "1                            Καρδίαν καθαράν θέλ' ο Θεός     Greek\n",
       "2                                 Ου Θεός κι ου γείτονας     Greek\n",
       "3                Θέλει να κρυφθή πίσω από το δάχτυλό του     Greek\n",
       "4          Όλοι κλαίν' τα χάλια τ'ς κι ο μυλωνάς τη δέσι     Greek\n",
       "...                                                  ...       ...\n",
       "33332  ನಿಮ್ಮ ತಪ್ಪು ಏನು ಬಂದಿದೆಯೆಂದರೆ ಆ ದಿನದಿಂದ ನಿಮಗೆ ಒ...     Other\n",
       "33333  ನಾರ್ಸಿಸಾ ತಾನು ಮೊದಲಿಗೆ ಹೆಣಗಾಡುತ್ತಿದ್ದ ಮಾರ್ಗಗಳನ್...     Other\n",
       "33334  ಹೇಗೆ ' ನಾರ್ಸಿಸಿಸಮ್ ಈಗ ಮರಿಯನ್ ಅವರಿಗೆ ಸಂಭವಿಸಿದ ಎ...     Other\n",
       "33335  ಅವಳು ಈಗ ಹೆಚ್ಚು ಚಿನ್ನದ ಬ್ರೆಡ್ ಬಯಸುವುದಿಲ್ಲ ಎಂದು ...     Other\n",
       "33336  ಟೆರ್ರಿ ನೀವು ನಿಜವಾಗಿಯೂ ಆ ದೇವದೂತನಂತೆ ಸ್ವಲ್ಪ ಕಾಣು...     Other\n",
       "\n",
       "[33337 rows x 2 columns]"
      ]
     },
     "execution_count": 14,
     "metadata": {},
     "output_type": "execute_result"
    }
   ],
   "source": [
    "result_df = pd.DataFrame(columns=['text', 'orig_lang'])\n",
    "# Concatenate the original 'text' and 'greeklish_version' columns\n",
    "result_df['text'] = pd.concat([concat_df['text'], kaggle_set['Text']], axis=0, ignore_index=True)\n",
    "result_df['orig_lang'] = pd.concat(\n",
    "    [concat_df['orig_lang'], kaggle_set['new_lang']], axis=0, ignore_index=True)\n",
    "\n",
    "result_df"
   ]
  },
  {
   "cell_type": "code",
   "execution_count": 70,
   "id": "e337ec2f",
   "metadata": {},
   "outputs": [],
   "source": [
    "result_df.to_csv(\"../csv/gold.csv\", index=False, encoding='utf-8')\n"
   ]
  },
  {
   "cell_type": "code",
   "execution_count": 71,
   "id": "c3c9f3a6",
   "metadata": {},
   "outputs": [
    {
     "name": "stdout",
     "output_type": "stream",
     "text": [
      "origin\n",
      "English    2298\n",
      "Name: count, dtype: int64\n",
      "Index(['Unnamed: 0', 'text', 'explanation', 'origin'], dtype='object')\n"
     ]
    }
   ],
   "source": [
    "import pandas as pd\n",
    "\n",
    "english_proverbs = pd.read_csv(\"../csv/English_phrases_and_sayings.csv\")\n",
    "print(english_proverbs.origin.value_counts())\n",
    "print(english_proverbs.columns)"
   ]
  },
  {
   "cell_type": "markdown",
   "id": "cb0657dc",
   "metadata": {},
   "source": [
    "So, there are 2298 english proverbs in this dataset"
   ]
  },
  {
   "cell_type": "code",
   "execution_count": 72,
   "id": "a7d5f733",
   "metadata": {},
   "outputs": [],
   "source": [
    "final_df = pd.DataFrame(columns=[\"text\", \"orig_lang\"])\n",
    "\n",
    "\n",
    "# Concatenate the original 'text' and 'greeklish_version' columns\n",
    "final_df['text'] = pd.concat([result_df['text'], english_proverbs['text']], axis=0, ignore_index=True)\n",
    "final_df['orig_lang'] = pd.concat(\n",
    "    [result_df['orig_lang'], english_proverbs['origin']], axis=0, ignore_index=True)"
   ]
  },
  {
   "cell_type": "code",
   "execution_count": 73,
   "id": "237426d5",
   "metadata": {},
   "outputs": [
    {
     "data": {
      "text/html": [
       "<div>\n",
       "<style scoped>\n",
       "    .dataframe tbody tr th:only-of-type {\n",
       "        vertical-align: middle;\n",
       "    }\n",
       "\n",
       "    .dataframe tbody tr th {\n",
       "        vertical-align: top;\n",
       "    }\n",
       "\n",
       "    .dataframe thead th {\n",
       "        text-align: right;\n",
       "    }\n",
       "</style>\n",
       "<table border=\"1\" class=\"dataframe\">\n",
       "  <thead>\n",
       "    <tr style=\"text-align: right;\">\n",
       "      <th></th>\n",
       "      <th>text</th>\n",
       "      <th>orig_lang</th>\n",
       "    </tr>\n",
       "  </thead>\n",
       "  <tbody>\n",
       "    <tr>\n",
       "      <th>0</th>\n",
       "      <td>Γέλια σαν κομπολόγια</td>\n",
       "      <td>Greek</td>\n",
       "    </tr>\n",
       "    <tr>\n",
       "      <th>1</th>\n",
       "      <td>Καρδίαν καθαράν θέλ' ο Θεός</td>\n",
       "      <td>Greek</td>\n",
       "    </tr>\n",
       "    <tr>\n",
       "      <th>2</th>\n",
       "      <td>Ου Θεός κι ου γείτονας</td>\n",
       "      <td>Greek</td>\n",
       "    </tr>\n",
       "    <tr>\n",
       "      <th>3</th>\n",
       "      <td>Θέλει να κρυφθή πίσω από το δάχτυλό του</td>\n",
       "      <td>Greek</td>\n",
       "    </tr>\n",
       "    <tr>\n",
       "      <th>4</th>\n",
       "      <td>Όλοι κλαίν' τα χάλια τ'ς κι ο μυλωνάς τη δέσι</td>\n",
       "      <td>Greek</td>\n",
       "    </tr>\n",
       "    <tr>\n",
       "      <th>...</th>\n",
       "      <td>...</td>\n",
       "      <td>...</td>\n",
       "    </tr>\n",
       "    <tr>\n",
       "      <th>35630</th>\n",
       "      <td>Your money or your life</td>\n",
       "      <td>English</td>\n",
       "    </tr>\n",
       "    <tr>\n",
       "      <th>35631</th>\n",
       "      <td>Your name is mud</td>\n",
       "      <td>English</td>\n",
       "    </tr>\n",
       "    <tr>\n",
       "      <th>35632</th>\n",
       "      <td>You've never had it so good</td>\n",
       "      <td>English</td>\n",
       "    </tr>\n",
       "    <tr>\n",
       "      <th>35633</th>\n",
       "      <td>Zero tolerance</td>\n",
       "      <td>English</td>\n",
       "    </tr>\n",
       "    <tr>\n",
       "      <th>35634</th>\n",
       "      <td>Zig-zag</td>\n",
       "      <td>English</td>\n",
       "    </tr>\n",
       "  </tbody>\n",
       "</table>\n",
       "<p>35635 rows × 2 columns</p>\n",
       "</div>"
      ],
      "text/plain": [
       "                                                text orig_lang\n",
       "0                               Γέλια σαν κομπολόγια     Greek\n",
       "1                        Καρδίαν καθαράν θέλ' ο Θεός     Greek\n",
       "2                             Ου Θεός κι ου γείτονας     Greek\n",
       "3            Θέλει να κρυφθή πίσω από το δάχτυλό του     Greek\n",
       "4      Όλοι κλαίν' τα χάλια τ'ς κι ο μυλωνάς τη δέσι     Greek\n",
       "...                                              ...       ...\n",
       "35630                        Your money or your life   English\n",
       "35631                               Your name is mud   English\n",
       "35632                    You've never had it so good   English\n",
       "35633                                 Zero tolerance   English\n",
       "35634                                        Zig-zag   English\n",
       "\n",
       "[35635 rows x 2 columns]"
      ]
     },
     "execution_count": 73,
     "metadata": {},
     "output_type": "execute_result"
    }
   ],
   "source": [
    "# Display the dataframe\n",
    "final_df"
   ]
  },
  {
   "cell_type": "code",
   "execution_count": 74,
   "id": "64926e7e",
   "metadata": {},
   "outputs": [
    {
     "data": {
      "text/plain": [
       "orig_lang\n",
       "Greek        11865\n",
       "Greeklish    11500\n",
       "Other         8587\n",
       "English       3683\n",
       "Name: count, dtype: int64"
      ]
     },
     "execution_count": 74,
     "metadata": {},
     "output_type": "execute_result"
    }
   ],
   "source": [
    "final_df.orig_lang.value_counts()"
   ]
  },
  {
   "cell_type": "markdown",
   "id": "7e86c4cf",
   "metadata": {},
   "source": [
    "    We can observe that the final dataset is highly unbalance on the number of labels for each class.\n",
    "\n",
    "    This can result to unwanted biases and extra operations to reduce bias.\n",
    "    \n",
    "    So, given that we have the freedom to augment our dataset we will therefore select an equal amount of class labels."
   ]
  },
  {
   "cell_type": "code",
   "execution_count": 75,
   "id": "fc4b9fb4",
   "metadata": {},
   "outputs": [],
   "source": [
    "# Store the minimum value of the value_counts() result\n",
    "min_count = final_df['orig_lang'].value_counts().min()\n",
    "\n",
    "# Sample rows from each category to match the count of the category\n",
    "# with the lowest count\n",
    "balanced_df = final_df.groupby('orig_lang').apply(lambda x: x.sample(min_count)).reset_index(drop=True)"
   ]
  },
  {
   "cell_type": "code",
   "execution_count": 76,
   "id": "2b21505d",
   "metadata": {},
   "outputs": [
    {
     "data": {
      "text/plain": [
       "orig_lang\n",
       "English      3683\n",
       "Greek        3683\n",
       "Greeklish    3683\n",
       "Other        3683\n",
       "Name: count, dtype: int64"
      ]
     },
     "execution_count": 76,
     "metadata": {},
     "output_type": "execute_result"
    }
   ],
   "source": [
    "balanced_df.orig_lang.value_counts()"
   ]
  },
  {
   "cell_type": "markdown",
   "id": "8d129119",
   "metadata": {},
   "source": [
    "Drop a portion of 'other' labeled rows, as it not of particular interest for the coming objective."
   ]
  },
  {
   "cell_type": "code",
   "execution_count": 77,
   "id": "e89eae0c",
   "metadata": {},
   "outputs": [
    {
     "name": "stdout",
     "output_type": "stream",
     "text": [
      "orig_lang\n",
      "English      3683\n",
      "Greek        3683\n",
      "Greeklish    3683\n",
      "Other        1841\n",
      "Name: count, dtype: int64\n"
     ]
    }
   ],
   "source": [
    "import pandas as pd\n",
    "\n",
    "# Assuming 'balanced_df' is your DataFrame\n",
    "percentage_to_drop = 0.5  # adjust the percentage as needed\n",
    "\n",
    "# Get the indices of rows labeled as 'Other'\n",
    "other_indices = balanced_df[balanced_df['orig_lang'] == 'Other'].index\n",
    "\n",
    "# Convert the Index object to a pandas Series and then randomly select a percentage of indices to drop\n",
    "indices_to_drop = pd.Series(other_indices).sample(frac=percentage_to_drop)\n",
    "\n",
    "# Drop the selected rows\n",
    "balanced_df_dropped = balanced_df.drop(indices_to_drop)\n",
    "\n",
    "# Verify the new distribution\n",
    "print(balanced_df_dropped['orig_lang'].value_counts())\n"
   ]
  },
  {
   "cell_type": "code",
   "execution_count": 78,
   "id": "486a0d50",
   "metadata": {},
   "outputs": [],
   "source": [
    "balanced_df_dropped.to_csv(\"../csv/gold.csv\", index=False, encoding='utf-8')\n"
   ]
  },
  {
   "cell_type": "code",
   "execution_count": null,
   "id": "5c961c6d",
   "metadata": {},
   "outputs": [],
   "source": []
  }
 ],
 "metadata": {
  "kernelspec": {
   "display_name": "Python 3 (ipykernel)",
   "language": "python",
   "name": "python3"
  },
  "language_info": {
   "codemirror_mode": {
    "name": "ipython",
    "version": 3
   },
   "file_extension": ".py",
   "mimetype": "text/x-python",
   "name": "python",
   "nbconvert_exporter": "python",
   "pygments_lexer": "ipython3",
   "version": "3.11.5"
  }
 },
 "nbformat": 4,
 "nbformat_minor": 5
}
