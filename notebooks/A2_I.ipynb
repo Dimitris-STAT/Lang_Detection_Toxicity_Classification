{
 "cells": [
  {
   "cell_type": "markdown",
   "id": "4b212299",
   "metadata": {},
   "source": [
    "### Create a Language Detector using RegExps."
   ]
  },
  {
   "cell_type": "markdown",
   "id": "c96931ad",
   "metadata": {},
   "source": [
    "### (I):"
   ]
  },
  {
   "cell_type": "markdown",
   "id": "f40ac345",
   "metadata": {},
   "source": [
    "#### (1):"
   ]
  },
  {
   "cell_type": "code",
   "execution_count": 1,
   "id": "3d6f7813",
   "metadata": {},
   "outputs": [],
   "source": [
    "import re\n",
    "\n",
    "def language_detector(text):\n",
    "    greek_pattern = re.compile(r'\\b[α-ωά-ώΆ-ΏίϊΐόύϋΰήΑ-ΩΊΪΌΎΫ\\s]+\\b', re.IGNORECASE)\n",
    "    english_pattern = re.compile(r'\\b[a-zA-Z\\s]+\\b', re.IGNORECASE)\n",
    "    greeklish_pattern = re.compile(r'\\b[α-ωά-ώΆ-Ώίϊΐόύϋΰήa-zA-Z\\s]*'\n",
    "                              r'(?:g|G|γ|Γ|th|TH|χ|Χ|ei|ou|th|ch|ph|ai|oi|ei|oi|si|ti|ri|ni|xi|psi|tsi|κ|Κ|άι|έι|όι|ού|υι|ευ|ηυ|αυ|άϊ|έϊ|ώϊ|οϊ|ϋι|ίς|ής|ος|ως|ας|ές|ής|ίς|ός|ύς|ώς|εί|αί|οί|ου|άς|ές|ής|ίς|ός|ύς|ώς|εί|αί|οί|ου|ά|έ|ή|ί|ό|ύ|ώ)?'\n",
    "                              r'[a-zA-Z]+'\n",
    "                              r'(?:is|aki|akis)?'\n",
    "                              r'[a-zA-Z\\s]*\\b', re.IGNORECASE)\n",
    "\n",
    "\n",
    "    greek_matches = greek_pattern.findall(text)\n",
    "    english_matches = english_pattern.findall(text)\n",
    "    greeklish_matches = greeklish_pattern.findall(text)\n",
    "\n",
    "    greek_ratio = len(''.join(greek_matches)) / len(text)\n",
    "    english_ratio = len(''.join(english_matches)) / len(text)\n",
    "    greeklish_ratio = len(''.join(greeklish_matches)) / len(text)\n",
    "\n",
    "    if greek_ratio > 0.5 and english_ratio < 0.2:\n",
    "        return \"Greek\"\n",
    "    elif english_ratio > 0.5 and greek_ratio < 0.2:\n",
    "        return \"English\"\n",
    "    elif greeklish_ratio > 0.5:\n",
    "        return \"Greeklish\"\n",
    "    else:\n",
    "        return \"Other\"\n"
   ]
  },
  {
   "cell_type": "markdown",
   "id": "4a7fb249",
   "metadata": {},
   "source": [
    "#### (2):"
   ]
  },
  {
   "cell_type": "markdown",
   "id": "ec2c7449",
   "metadata": {},
   "source": [
    "#### Let's test to a greek/english/greeklish dataset"
   ]
  },
  {
   "cell_type": "markdown",
   "id": "9ed75a53",
   "metadata": {},
   "source": [
    "Firstly, read the csv file."
   ]
  },
  {
   "cell_type": "code",
   "execution_count": 2,
   "id": "4074d6b4",
   "metadata": {},
   "outputs": [],
   "source": [
    "import pandas as pd\n",
    "\n",
    "# Load csv file using pandas\n",
    "df = pd.read_csv(\"../csv/gold.csv\")\n",
    "\n"
   ]
  },
  {
   "cell_type": "markdown",
   "id": "678daa89",
   "metadata": {},
   "source": [
    "### Assess Classifier"
   ]
  },
  {
   "cell_type": "code",
   "execution_count": 3,
   "id": "26f97de3",
   "metadata": {},
   "outputs": [
    {
     "name": "stdout",
     "output_type": "stream",
     "text": [
      "lang_detector\n",
      "English      20222\n",
      "Greek        11586\n",
      "Other         3209\n",
      "Greeklish      618\n",
      "Name: count, dtype: int64\n"
     ]
    },
    {
     "data": {
      "text/html": [
       "<div>\n",
       "<style scoped>\n",
       "    .dataframe tbody tr th:only-of-type {\n",
       "        vertical-align: middle;\n",
       "    }\n",
       "\n",
       "    .dataframe tbody tr th {\n",
       "        vertical-align: top;\n",
       "    }\n",
       "\n",
       "    .dataframe thead th {\n",
       "        text-align: right;\n",
       "    }\n",
       "</style>\n",
       "<table border=\"1\" class=\"dataframe\">\n",
       "  <thead>\n",
       "    <tr style=\"text-align: right;\">\n",
       "      <th></th>\n",
       "      <th>text</th>\n",
       "      <th>orig_lang</th>\n",
       "      <th>lang_detector</th>\n",
       "    </tr>\n",
       "  </thead>\n",
       "  <tbody>\n",
       "    <tr>\n",
       "      <th>0</th>\n",
       "      <td>Γέλια σαν κομπολόγια</td>\n",
       "      <td>Greek</td>\n",
       "      <td>Greek</td>\n",
       "    </tr>\n",
       "    <tr>\n",
       "      <th>1</th>\n",
       "      <td>Καρδίαν καθαράν θέλ' ο Θεός</td>\n",
       "      <td>Greek</td>\n",
       "      <td>Greek</td>\n",
       "    </tr>\n",
       "    <tr>\n",
       "      <th>2</th>\n",
       "      <td>Ου Θεός κι ου γείτονας</td>\n",
       "      <td>Greek</td>\n",
       "      <td>Greek</td>\n",
       "    </tr>\n",
       "    <tr>\n",
       "      <th>3</th>\n",
       "      <td>Θέλει να κρυφθή πίσω από το δάχτυλό του</td>\n",
       "      <td>Greek</td>\n",
       "      <td>Greek</td>\n",
       "    </tr>\n",
       "    <tr>\n",
       "      <th>4</th>\n",
       "      <td>Όλοι κλαίν' τα χάλια τ'ς κι ο μυλωνάς τη δέσι</td>\n",
       "      <td>Greek</td>\n",
       "      <td>Greek</td>\n",
       "    </tr>\n",
       "    <tr>\n",
       "      <th>...</th>\n",
       "      <td>...</td>\n",
       "      <td>...</td>\n",
       "      <td>...</td>\n",
       "    </tr>\n",
       "    <tr>\n",
       "      <th>35630</th>\n",
       "      <td>Your money or your life</td>\n",
       "      <td>English</td>\n",
       "      <td>English</td>\n",
       "    </tr>\n",
       "    <tr>\n",
       "      <th>35631</th>\n",
       "      <td>Your name is mud</td>\n",
       "      <td>English</td>\n",
       "      <td>English</td>\n",
       "    </tr>\n",
       "    <tr>\n",
       "      <th>35632</th>\n",
       "      <td>You've never had it so good</td>\n",
       "      <td>English</td>\n",
       "      <td>English</td>\n",
       "    </tr>\n",
       "    <tr>\n",
       "      <th>35633</th>\n",
       "      <td>Zero tolerance</td>\n",
       "      <td>English</td>\n",
       "      <td>English</td>\n",
       "    </tr>\n",
       "    <tr>\n",
       "      <th>35634</th>\n",
       "      <td>Zig-zag</td>\n",
       "      <td>English</td>\n",
       "      <td>English</td>\n",
       "    </tr>\n",
       "  </tbody>\n",
       "</table>\n",
       "<p>35635 rows × 3 columns</p>\n",
       "</div>"
      ],
      "text/plain": [
       "                                                text orig_lang lang_detector\n",
       "0                               Γέλια σαν κομπολόγια     Greek         Greek\n",
       "1                        Καρδίαν καθαράν θέλ' ο Θεός     Greek         Greek\n",
       "2                             Ου Θεός κι ου γείτονας     Greek         Greek\n",
       "3            Θέλει να κρυφθή πίσω από το δάχτυλό του     Greek         Greek\n",
       "4      Όλοι κλαίν' τα χάλια τ'ς κι ο μυλωνάς τη δέσι     Greek         Greek\n",
       "...                                              ...       ...           ...\n",
       "35630                        Your money or your life   English       English\n",
       "35631                               Your name is mud   English       English\n",
       "35632                    You've never had it so good   English       English\n",
       "35633                                 Zero tolerance   English       English\n",
       "35634                                        Zig-zag   English       English\n",
       "\n",
       "[35635 rows x 3 columns]"
      ]
     },
     "execution_count": 3,
     "metadata": {},
     "output_type": "execute_result"
    }
   ],
   "source": [
    "# Apply our Language detector\n",
    "df['lang_detector'] = df['text'].apply(language_detector)\n",
    "print(df['lang_detector'].value_counts())\n",
    "df"
   ]
  },
  {
   "cell_type": "code",
   "execution_count": 4,
   "id": "04421392",
   "metadata": {},
   "outputs": [
    {
     "name": "stdout",
     "output_type": "stream",
     "text": [
      "Language Detector accuracy: 50.88%\n"
     ]
    }
   ],
   "source": [
    "import numpy as np\n",
    "accuracy = ((df['orig_lang'] == df['lang_detector']).sum())/ len(df)\n",
    "print(f\"Language Detector accuracy: {accuracy * 100:.2f}%\")\n"
   ]
  },
  {
   "cell_type": "markdown",
   "id": "f6687f7c",
   "metadata": {},
   "source": [
    "Based on this dataset the classification error probability is:"
   ]
  },
  {
   "cell_type": "code",
   "execution_count": 5,
   "id": "6c678ae2",
   "metadata": {},
   "outputs": [
    {
     "name": "stdout",
     "output_type": "stream",
     "text": [
      "Pe = 49.12%\n"
     ]
    }
   ],
   "source": [
    "print(f\"Pe = {(1-accuracy)*100:.2f}%\")"
   ]
  },
  {
   "cell_type": "markdown",
   "id": "e8e6576b",
   "metadata": {},
   "source": [
    "We have a basic understanding of the performance of our RegExps language Detector."
   ]
  },
  {
   "cell_type": "markdown",
   "id": "7744a85b",
   "metadata": {},
   "source": [
    "Let's in more detail: "
   ]
  },
  {
   "cell_type": "code",
   "execution_count": 6,
   "id": "0f04aa98",
   "metadata": {},
   "outputs": [
    {
     "name": "stdout",
     "output_type": "stream",
     "text": [
      "Based on gold.csv dataset:\n",
      "--------------------------------------------------\n",
      "Accurancy for Greek: 97.65%\n",
      "Accurancy for Greeklish: 1.70%\n",
      "Accurancy for English: 92.67%\n",
      "Accurancy for Other: 34.19%\n",
      "--------------------------------------------------\n"
     ]
    }
   ],
   "source": [
    "print(\"Based on gold.csv dataset:\")\n",
    "print(\"--------------------------------------------------\")\n",
    "for lang in df['orig_lang'].unique():\n",
    "    match_count = (df['lang_detector'][df['orig_lang'] == lang] == lang).sum()\n",
    "    total_instances = len(df[df['orig_lang'] == lang])\n",
    "    accuracy = match_count / total_instances if total_instances > 0 else 0\n",
    "    print(f\"Accurancy for {lang}: {accuracy * 100:.2f}%\")\n",
    "print(\"--------------------------------------------------\")\n"
   ]
  },
  {
   "cell_type": "code",
   "execution_count": 7,
   "id": "ebff9df3",
   "metadata": {},
   "outputs": [
    {
     "name": "stdout",
     "output_type": "stream",
     "text": [
      "Based on gold.csv dataset:\n",
      "----------------------------------------------------------\n",
      "Classification error probability for Greek: 2.35%\n",
      "Classification error probability for Greeklish: 98.30%\n",
      "Classification error probability for English: 7.33%\n",
      "Classification error probability for Other: 65.81%\n",
      "----------------------------------------------------------\n"
     ]
    }
   ],
   "source": [
    "print(\"Based on gold.csv dataset:\")\n",
    "print(\"----------------------------------------------------------\")\n",
    "for lang in df['orig_lang'].unique():\n",
    "    match_count = (df['lang_detector'][df['orig_lang'] == lang] == lang).sum()\n",
    "    total_instances = len(df[df['orig_lang'] == lang])\n",
    "    accuracy = match_count / total_instances if total_instances > 0 else 0\n",
    "    print(f\"Classification error probability for {lang}: {(1-accuracy)*100:.2f}%\")\n",
    "print(\"----------------------------------------------------------\")\n"
   ]
  },
  {
   "cell_type": "markdown",
   "id": "25a3428c",
   "metadata": {},
   "source": []
  },
  {
   "cell_type": "code",
   "execution_count": null,
   "id": "44ffc475",
   "metadata": {},
   "outputs": [],
   "source": []
  }
 ],
 "metadata": {
  "kernelspec": {
   "display_name": "Python 3 (ipykernel)",
   "language": "python",
   "name": "python3"
  },
  "language_info": {
   "codemirror_mode": {
    "name": "ipython",
    "version": 3
   },
   "file_extension": ".py",
   "mimetype": "text/x-python",
   "name": "python",
   "nbconvert_exporter": "python",
   "pygments_lexer": "ipython3",
   "version": "3.11.5"
  }
 },
 "nbformat": 4,
 "nbformat_minor": 5
}
